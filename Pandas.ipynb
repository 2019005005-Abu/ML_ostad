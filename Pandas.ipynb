{
 "cells": [
  {
   "cell_type": "code",
   "execution_count": 66,
   "id": "7b3d004e",
   "metadata": {},
   "outputs": [
    {
     "name": "stdout",
     "output_type": "stream",
     "text": [
      "     name   age  bamboo_sticks\n",
      "0  Pandik  25.0           15.0\n",
      "1  Bamboo  26.0           20.0\n",
      "2   Fuzzy  27.0           12.0\n",
      "3     Buk   NaN            NaN\n",
      "0    Pandik\n",
      "1    Bamboo\n",
      "2     Fuzzy\n",
      "3       Buk\n",
      "Name: name, dtype: object\n",
      "0    25.0\n",
      "1    26.0\n",
      "2    27.0\n",
      "3     NaN\n",
      "Name: age, dtype: float64\n",
      "0    15.0\n",
      "1    20.0\n",
      "2    12.0\n",
      "3     NaN\n",
      "Name: bamboo_sticks, dtype: float64\n",
      "<bound method DataFrame.info of      name   age  bamboo_sticks\n",
      "0  Pandik  25.0           15.0\n",
      "1  Bamboo  26.0           20.0\n",
      "2   Fuzzy  27.0           12.0\n",
      "3     Buk   NaN            NaN>\n",
      "0     True\n",
      "1     True\n",
      "2     True\n",
      "3    False\n",
      "Name: age, dtype: bool\n"
     ]
    }
   ],
   "source": [
    "import pandas as pd\n",
    "import numpy as np\n",
    "data={\n",
    "    'name':['Pandik','Bamboo','Fuzzy','Buk'],\n",
    "    'age':[25,26,27,np.nan],\n",
    "    'bamboo_sticks':[15,20,12,np.nan]\n",
    "}\n",
    "df=pd.DataFrame(data=data)\n",
    "print(df)\n",
    "df_name=df['name']\n",
    "df_age=df['age']\n",
    "df_bamboo=df['bamboo_sticks']\n",
    "print(df_name)\n",
    "print(df_age)\n",
    "print(df_bamboo)\n",
    "print(df.info)\n",
    "print(df['age']>7)\n"
   ]
  },
  {
   "cell_type": "code",
   "execution_count": null,
   "id": "960bf1a5",
   "metadata": {},
   "outputs": [],
   "source": []
  },
  {
   "cell_type": "code",
   "execution_count": 42,
   "id": "cc032370",
   "metadata": {},
   "outputs": [
    {
     "name": "stdout",
     "output_type": "stream",
     "text": [
      "26\n"
     ]
    },
    {
     "data": {
      "text/html": [
       "<div>\n",
       "<style scoped>\n",
       "    .dataframe tbody tr th:only-of-type {\n",
       "        vertical-align: middle;\n",
       "    }\n",
       "\n",
       "    .dataframe tbody tr th {\n",
       "        vertical-align: top;\n",
       "    }\n",
       "\n",
       "    .dataframe thead th {\n",
       "        text-align: right;\n",
       "    }\n",
       "</style>\n",
       "<table border=\"1\" class=\"dataframe\">\n",
       "  <thead>\n",
       "    <tr style=\"text-align: right;\">\n",
       "      <th></th>\n",
       "      <th>name</th>\n",
       "      <th>age</th>\n",
       "      <th>bamboo_sticks</th>\n",
       "    </tr>\n",
       "  </thead>\n",
       "  <tbody>\n",
       "    <tr>\n",
       "      <th>0</th>\n",
       "      <td>Pandik</td>\n",
       "      <td>26</td>\n",
       "      <td>16</td>\n",
       "    </tr>\n",
       "    <tr>\n",
       "      <th>1</th>\n",
       "      <td>Bamboo</td>\n",
       "      <td>26</td>\n",
       "      <td>16</td>\n",
       "    </tr>\n",
       "    <tr>\n",
       "      <th>2</th>\n",
       "      <td>Fuzzy</td>\n",
       "      <td>30</td>\n",
       "      <td>12</td>\n",
       "    </tr>\n",
       "  </tbody>\n",
       "</table>\n",
       "</div>"
      ],
      "text/plain": [
       "     name  age  bamboo_sticks\n",
       "0  Pandik   26             16\n",
       "1  Bamboo   26             16\n",
       "2   Fuzzy   30             12"
      ]
     },
     "execution_count": 42,
     "metadata": {},
     "output_type": "execute_result"
    }
   ],
   "source": [
    "df['age']>7\n",
    "df\n",
    "c=df.loc[df['name']=='Pandik','age']=26;\n",
    "print(c)\n",
    "df\n",
    "c=df.loc[df['age']==26,'bamboo_sticks']=16\n",
    "c\n",
    "df\n",
    "\n",
    "c=df.loc[df['name']=='Fuzzy','age']=30\n",
    "c\n",
    "df"
   ]
  },
  {
   "cell_type": "code",
   "execution_count": 48,
   "id": "20cb23ea",
   "metadata": {},
   "outputs": [
    {
     "data": {
      "text/plain": [
       "bamboo_sticks    16\n",
       "Name: 1, dtype: int64"
      ]
     },
     "execution_count": 48,
     "metadata": {},
     "output_type": "execute_result"
    }
   ],
   "source": [
    "# df=df.drop(['age','name'],axis=1)\n",
    "# df\n",
    "df.iloc[0]\n",
    "df.iloc[2]\n",
    "df.iloc[1]"
   ]
  },
  {
   "cell_type": "code",
   "execution_count": 58,
   "id": "09954fa9",
   "metadata": {},
   "outputs": [
    {
     "data": {
      "text/html": [
       "<div>\n",
       "<style scoped>\n",
       "    .dataframe tbody tr th:only-of-type {\n",
       "        vertical-align: middle;\n",
       "    }\n",
       "\n",
       "    .dataframe tbody tr th {\n",
       "        vertical-align: top;\n",
       "    }\n",
       "\n",
       "    .dataframe thead th {\n",
       "        text-align: right;\n",
       "    }\n",
       "</style>\n",
       "<table border=\"1\" class=\"dataframe\">\n",
       "  <thead>\n",
       "    <tr style=\"text-align: right;\">\n",
       "      <th></th>\n",
       "      <th>name</th>\n",
       "      <th>age</th>\n",
       "      <th>bamboo_sticks</th>\n",
       "    </tr>\n",
       "  </thead>\n",
       "  <tbody>\n",
       "    <tr>\n",
       "      <th>0</th>\n",
       "      <td>Pandik</td>\n",
       "      <td>25.0</td>\n",
       "      <td>15.0</td>\n",
       "    </tr>\n",
       "    <tr>\n",
       "      <th>1</th>\n",
       "      <td>Bamboo</td>\n",
       "      <td>26.0</td>\n",
       "      <td>20.0</td>\n",
       "    </tr>\n",
       "    <tr>\n",
       "      <th>2</th>\n",
       "      <td>Fuzzy</td>\n",
       "      <td>27.0</td>\n",
       "      <td>12.0</td>\n",
       "    </tr>\n",
       "  </tbody>\n",
       "</table>\n",
       "</div>"
      ],
      "text/plain": [
       "     name   age  bamboo_sticks\n",
       "0  Pandik  25.0           15.0\n",
       "1  Bamboo  26.0           20.0\n",
       "2   Fuzzy  27.0           12.0"
      ]
     },
     "execution_count": 58,
     "metadata": {},
     "output_type": "execute_result"
    }
   ],
   "source": [
    "df\n",
    "df.loc[0:2]"
   ]
  },
  {
   "cell_type": "code",
   "execution_count": 61,
   "id": "a24ebc64",
   "metadata": {},
   "outputs": [
    {
     "data": {
      "text/html": [
       "<div>\n",
       "<style scoped>\n",
       "    .dataframe tbody tr th:only-of-type {\n",
       "        vertical-align: middle;\n",
       "    }\n",
       "\n",
       "    .dataframe tbody tr th {\n",
       "        vertical-align: top;\n",
       "    }\n",
       "\n",
       "    .dataframe thead th {\n",
       "        text-align: right;\n",
       "    }\n",
       "</style>\n",
       "<table border=\"1\" class=\"dataframe\">\n",
       "  <thead>\n",
       "    <tr style=\"text-align: right;\">\n",
       "      <th></th>\n",
       "      <th>age</th>\n",
       "      <th>bamboo_sticks</th>\n",
       "    </tr>\n",
       "  </thead>\n",
       "  <tbody>\n",
       "    <tr>\n",
       "      <th>0</th>\n",
       "      <td>25.0</td>\n",
       "      <td>15.0</td>\n",
       "    </tr>\n",
       "  </tbody>\n",
       "</table>\n",
       "</div>"
      ],
      "text/plain": [
       "    age  bamboo_sticks\n",
       "0  25.0           15.0"
      ]
     },
     "execution_count": 61,
     "metadata": {},
     "output_type": "execute_result"
    }
   ],
   "source": [
    "df.iloc[0:1,1:3]"
   ]
  },
  {
   "cell_type": "code",
   "execution_count": 68,
   "id": "0a34143d",
   "metadata": {},
   "outputs": [
    {
     "name": "stdout",
     "output_type": "stream",
     "text": [
      "     name  age  Baboo_sticks\n",
      "a   Pandy    5            15\n",
      "b  Boobbo    7            20\n",
      "c   Fuzzy    8            12\n",
      "d   Flufy    9            18\n"
     ]
    },
    {
     "data": {
      "text/plain": [
       "name            Pandy\n",
       "age                 5\n",
       "Baboo_sticks       15\n",
       "Name: a, dtype: object"
      ]
     },
     "execution_count": 68,
     "metadata": {},
     "output_type": "execute_result"
    }
   ],
   "source": [
    "df=pd.DataFrame({\n",
    "    'name':['Pandy','Boobbo','Fuzzy','Flufy'],\n",
    "    'age':[5,7,8,9],\n",
    "    'Baboo_sticks':[15,20,12,18]\n",
    "},index=['a','b','c','d'])\n",
    "print(df)\n",
    "df.loc['a']"
   ]
  },
  {
   "cell_type": "code",
   "execution_count": 103,
   "id": "28972329",
   "metadata": {},
   "outputs": [
    {
     "data": {
      "text/html": [
       "<div>\n",
       "<style scoped>\n",
       "    .dataframe tbody tr th:only-of-type {\n",
       "        vertical-align: middle;\n",
       "    }\n",
       "\n",
       "    .dataframe tbody tr th {\n",
       "        vertical-align: top;\n",
       "    }\n",
       "\n",
       "    .dataframe thead th {\n",
       "        text-align: right;\n",
       "    }\n",
       "</style>\n",
       "<table border=\"1\" class=\"dataframe\">\n",
       "  <thead>\n",
       "    <tr style=\"text-align: right;\">\n",
       "      <th></th>\n",
       "      <th>name</th>\n",
       "      <th>Baboo_sticks</th>\n",
       "    </tr>\n",
       "  </thead>\n",
       "  <tbody>\n",
       "    <tr>\n",
       "      <th>c</th>\n",
       "      <td>Fuzzy</td>\n",
       "      <td>12</td>\n",
       "    </tr>\n",
       "    <tr>\n",
       "      <th>d</th>\n",
       "      <td>Flufy</td>\n",
       "      <td>18</td>\n",
       "    </tr>\n",
       "  </tbody>\n",
       "</table>\n",
       "</div>"
      ],
      "text/plain": [
       "    name  Baboo_sticks\n",
       "c  Fuzzy            12\n",
       "d  Flufy            18"
      ]
     },
     "execution_count": 103,
     "metadata": {},
     "output_type": "execute_result"
    }
   ],
   "source": [
    "df.loc[['a','c'],['name','age']]\n",
    "df\n",
    "df.loc[['c','d'],['name','Baboo_sticks']]"
   ]
  },
  {
   "cell_type": "code",
   "execution_count": 116,
   "id": "cf893b01",
   "metadata": {},
   "outputs": [
    {
     "data": {
      "text/html": [
       "<div>\n",
       "<style scoped>\n",
       "    .dataframe tbody tr th:only-of-type {\n",
       "        vertical-align: middle;\n",
       "    }\n",
       "\n",
       "    .dataframe tbody tr th {\n",
       "        vertical-align: top;\n",
       "    }\n",
       "\n",
       "    .dataframe thead th {\n",
       "        text-align: right;\n",
       "    }\n",
       "</style>\n",
       "<table border=\"1\" class=\"dataframe\">\n",
       "  <thead>\n",
       "    <tr style=\"text-align: right;\">\n",
       "      <th></th>\n",
       "      <th>id</th>\n",
       "      <th>name</th>\n",
       "      <th>age</th>\n",
       "      <th>department</th>\n",
       "      <th>salary</th>\n",
       "    </tr>\n",
       "  </thead>\n",
       "  <tbody>\n",
       "    <tr>\n",
       "      <th>0</th>\n",
       "      <td>1</td>\n",
       "      <td>Alice</td>\n",
       "      <td>25</td>\n",
       "      <td>Engineering</td>\n",
       "      <td>70000</td>\n",
       "    </tr>\n",
       "    <tr>\n",
       "      <th>1</th>\n",
       "      <td>2</td>\n",
       "      <td>Bob</td>\n",
       "      <td>30</td>\n",
       "      <td>Marketing</td>\n",
       "      <td>55000</td>\n",
       "    </tr>\n",
       "    <tr>\n",
       "      <th>2</th>\n",
       "      <td>3</td>\n",
       "      <td>Charlie</td>\n",
       "      <td>28</td>\n",
       "      <td>HR</td>\n",
       "      <td>60000</td>\n",
       "    </tr>\n",
       "    <tr>\n",
       "      <th>3</th>\n",
       "      <td>4</td>\n",
       "      <td>David</td>\n",
       "      <td>35</td>\n",
       "      <td>Finance</td>\n",
       "      <td>75000</td>\n",
       "    </tr>\n",
       "  </tbody>\n",
       "</table>\n",
       "</div>"
      ],
      "text/plain": [
       "   id     name  age   department  salary\n",
       "0   1    Alice   25  Engineering   70000\n",
       "1   2      Bob   30    Marketing   55000\n",
       "2   3  Charlie   28           HR   60000\n",
       "3   4    David   35      Finance   75000"
      ]
     },
     "execution_count": 116,
     "metadata": {},
     "output_type": "execute_result"
    }
   ],
   "source": [
    "import pandas as pd;\n",
    "df__json=pd.read_json('./data.json')\n",
    "df__json\n",
    "df__json.head()\n",
    "df__json.shape\n",
    "csv=df__json.to_csv('json_to_csv.csv',index=False)\n",
    "csv\n",
    "csv=pd.read_csv('./json_to_csv.csv')\n",
    "csv\n",
    "# csv.to_excel('excel_file.xlsx',index=False);\n"
   ]
  },
  {
   "cell_type": "code",
   "execution_count": 141,
   "id": "d729979b",
   "metadata": {},
   "outputs": [
    {
     "name": "stdout",
     "output_type": "stream",
     "text": [
      "   ID   Name     Hobby\n",
      "0   1  Pandy  Climbing\n",
      "1   2  Fuzzy  Sleeping\n",
      "   ID    Name     Hobby\n",
      "0   1   Pandy  Climbing\n",
      "1   2   Fuzzy  Sleeping\n",
      "2   3  Bamboo       NaN\n",
      "   ID   Name     Hobby\n",
      "0   1  Pandy  Climbing\n",
      "1   2  Fuzzy  Sleeping\n",
      "2   4    NaN    Eating\n",
      "   ID    Name     Hobby\n",
      "0   1   Pandy       NaN\n",
      "1   2   Fuzzy       NaN\n",
      "2   3  Bamboo       NaN\n",
      "0   1     NaN  Climbing\n",
      "1   2     NaN  Sleeping\n",
      "2   4     NaN    Eating\n",
      "\n",
      "\n",
      "   ID    Name  ID     Hobby\n",
      "0   1   Pandy   1  Climbing\n",
      "1   2   Fuzzy   2  Sleeping\n",
      "2   3  Bamboo   4    Eating\n"
     ]
    },
    {
     "data": {
      "text/html": [
       "<div>\n",
       "<style scoped>\n",
       "    .dataframe tbody tr th:only-of-type {\n",
       "        vertical-align: middle;\n",
       "    }\n",
       "\n",
       "    .dataframe tbody tr th {\n",
       "        vertical-align: top;\n",
       "    }\n",
       "\n",
       "    .dataframe thead th {\n",
       "        text-align: right;\n",
       "    }\n",
       "</style>\n",
       "<table border=\"1\" class=\"dataframe\">\n",
       "  <thead>\n",
       "    <tr style=\"text-align: right;\">\n",
       "      <th></th>\n",
       "      <th>id</th>\n",
       "      <th>name</th>\n",
       "      <th>age</th>\n",
       "      <th>department</th>\n",
       "      <th>salary</th>\n",
       "    </tr>\n",
       "  </thead>\n",
       "  <tbody>\n",
       "  </tbody>\n",
       "</table>\n",
       "</div>"
      ],
      "text/plain": [
       "Empty DataFrame\n",
       "Columns: [id, name, age, department, salary]\n",
       "Index: []"
      ]
     },
     "execution_count": 141,
     "metadata": {},
     "output_type": "execute_result"
    }
   ],
   "source": [
    "csv[['age','salary']]\n",
    "csv[(csv['age']>28) &(csv['salary']>60000)]\n",
    "csv[(csv['age']>25)]\n",
    "csv[(csv['department']=='HR')]\n",
    "left=pd.DataFrame({\n",
    "    'ID':[1,2,3],\n",
    "    'Name':['Pandy','Fuzzy','Bamboo']\n",
    "})\n",
    "right=pd.DataFrame({\n",
    "    'ID':[1,2,4],\n",
    "    'Hobby':['Climbing','Sleeping','Eating']\n",
    "})\n",
    "merged__pd=pd.merge(left=left,\n",
    "                    right=right,\n",
    "                    on='ID',\n",
    "                    how='inner')\n",
    "print(merged__pd)\n",
    "\n",
    "merged__pd=pd.merge(left=left,\n",
    "                    right=right,\n",
    "                    on='ID',\n",
    "                    how='left')\n",
    "print(merged__pd)\n",
    "merged__pd=pd.merge(left=left,\n",
    "                    right=right,\n",
    "                    on='ID',\n",
    "                    how='right')\n",
    "print(merged__pd)\n",
    "\n",
    "concatenate_df=pd.concat([left,right],\n",
    "                         ignore_index=False)\n",
    "print(concatenate_df)\n",
    "print('\\n')\n",
    "concatenate_axis=pd.concat([left,right],axis=1)\n",
    "print(concatenate_axis)\n",
    "\n",
    "csv[(csv['age']>28) &\n",
    "    (csv['name']=='Charlie')&\n",
    "    (csv['department']=='HR')\n",
    "    ]\n"
   ]
  },
  {
   "cell_type": "code",
   "execution_count": null,
   "id": "5ce77367",
   "metadata": {},
   "outputs": [],
   "source": []
  },
  {
   "cell_type": "code",
   "execution_count": null,
   "id": "c6253664",
   "metadata": {},
   "outputs": [],
   "source": []
  }
 ],
 "metadata": {
  "kernelspec": {
   "display_name": ".venv",
   "language": "python",
   "name": "python3"
  },
  "language_info": {
   "codemirror_mode": {
    "name": "ipython",
    "version": 3
   },
   "file_extension": ".py",
   "mimetype": "text/x-python",
   "name": "python",
   "nbconvert_exporter": "python",
   "pygments_lexer": "ipython3",
   "version": "3.13.4"
  }
 },
 "nbformat": 4,
 "nbformat_minor": 5
}
