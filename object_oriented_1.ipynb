{
 "cells": [
  {
   "cell_type": "code",
   "execution_count": 37,
   "id": "3ea03553",
   "metadata": {},
   "outputs": [
    {
     "name": "stdout",
     "output_type": "stream",
     "text": [
      "Rifat Shahriar\n",
      "My full name is Abu Al Shahriar Rifat\n",
      "Deposit money\n",
      "846\n"
     ]
    }
   ],
   "source": [
    "class Rifat:\n",
    "    name='Abu Al Shahriar Rifat'\n",
    "    balance=646;\n",
    "    def __init__(self,f_name,l_name):\n",
    "        self.f_name=f_name;\n",
    "        self.l_name=l_name;\n",
    "    \n",
    "    def MyName(self):\n",
    "        first_name=self.f_name;\n",
    "        last_name=self.l_name;\n",
    "        return first_name+\" \"+last_name;\n",
    "    def full_name(self):\n",
    "        return f'My full name is {self.name}'\n",
    "    def checkBalance(self,amount):\n",
    "        if amount==0:\n",
    "            print('You have no money')\n",
    "        elif amount<100:\n",
    "            self.balance=self.balance+100;\n",
    "            print(self.balance)\n",
    "        elif amount>150 and amount<=600:\n",
    "           self.balance+=200;\n",
    "           print(self.balance)\n",
    "        else:\n",
    "            print('Deposit money')\n",
    "        \n",
    "R=Rifat('Rifat','Shahriar')\n",
    "l=R.MyName()\n",
    "print(l)\n",
    "L=R.full_name();\n",
    "print(L)\n",
    "R.checkBalance(100)\n",
    "R.checkBalance(200)\n",
    "\n",
    "\n",
    "\n",
    "\n",
    "        \n",
    "    \n"
   ]
  },
  {
   "cell_type": "code",
   "execution_count": 46,
   "id": "7f491df8",
   "metadata": {},
   "outputs": [
    {
     "name": "stdout",
     "output_type": "stream",
     "text": [
      "Lets welcome\n",
      "Lets welcome\n",
      "Lets welcome\n",
      "Avargers has started fight\n",
      "I am Tony stack\n",
      "I am Robert Bruce Banner\n",
      "I am Peter Benjamin Parker\n",
      "I am Iron-man I am  at Genius inventor\n",
      "Lets welcome\n",
      "Lets welcome\n",
      "I am  Shang-Chi I am  at Martial arts mastery\n"
     ]
    }
   ],
   "source": [
    "class Avangers:\n",
    "    def __init__(self,name,power):\n",
    "        self.name=name;\n",
    "        self.power=power;\n",
    "        print('Lets welcome')\n",
    "    def fight(self):\n",
    "        print(\"Avargers has started fight\")\n",
    "    def introduction(self,name):\n",
    "        print(f\"I am {name}\")\n",
    "    def PowerType(self):\n",
    "        name=self.name;\n",
    "        power=self.power;\n",
    "        print(f'I am {name} I am  at {power}')\n",
    "        \n",
    "ironman=Avangers('Iron-man','Genius inventor')\n",
    "Hulk=Avangers('Hulk','Transformation into a rage-fueled giant with immense strength')\n",
    "SpiderMan=Avangers('spder-man',' Wall-crawling');\n",
    "ironman.fight()\n",
    "ironman.introduction('Tony stack')\n",
    "Hulk.introduction('Robert Bruce Banner')\n",
    "SpiderMan.introduction('Peter Benjamin Parker')\n",
    "ironman.PowerType();\n",
    "\n",
    "class Shared_Power(Avangers):\n",
    "    def __init__(self,name,power):\n",
    "        super().__init__(name,power)\n",
    "    def Combine_power(self):\n",
    "        self.PowerType()\n",
    "S=Shared_Power('iron_man','Ai expert')\n",
    "S=Shared_Power(' Shang-Chi','Martial arts mastery')\n",
    "S.Combine_power()\n"
   ]
  },
  {
   "cell_type": "code",
   "execution_count": 90,
   "id": "00502cc8",
   "metadata": {},
   "outputs": [
    {
     "name": "stdout",
     "output_type": "stream",
     "text": [
      "100\n",
      "505\n",
      "withdraw-amount:70\n",
      "After withdraw balance 435\n"
     ]
    }
   ],
   "source": [
    "class Atm:\n",
    "    def __init__(self):\n",
    "        self.balance=0;\n",
    "    def pin(self):\n",
    "        input_pin=input('Enter Your pin')\n",
    "        if input_pin==123:\n",
    "            print(\"You have got access\")\n",
    "            return\n",
    "    def deposit_monery(self,amount):\n",
    "        self.pin()\n",
    "        self.balance=self.balance+amount;\n",
    "        print(self.balance)\n",
    "    def withdraw_money(self,amount):\n",
    "        self.pin();\n",
    "        print(f\"withdraw-amount:{amount}\")\n",
    "        if self.balance-amount<50:\n",
    "            print('You can not withdraw')\n",
    "            return;\n",
    "        else:\n",
    "            self.balance=self.balance-amount;\n",
    "            print(\"After withdraw balance\",self.balance)\n",
    "                \n",
    "     \n",
    "A=Atm()\n",
    "A.deposit_monery(100);\n",
    "A.deposit_monery(405)\n",
    "A.withdraw_money(70)\n",
    "\n",
    "            \n"
   ]
  }
 ],
 "metadata": {
  "kernelspec": {
   "display_name": ".venv",
   "language": "python",
   "name": "python3"
  },
  "language_info": {
   "codemirror_mode": {
    "name": "ipython",
    "version": 3
   },
   "file_extension": ".py",
   "mimetype": "text/x-python",
   "name": "python",
   "nbconvert_exporter": "python",
   "pygments_lexer": "ipython3",
   "version": "3.13.4"
  }
 },
 "nbformat": 4,
 "nbformat_minor": 5
}
